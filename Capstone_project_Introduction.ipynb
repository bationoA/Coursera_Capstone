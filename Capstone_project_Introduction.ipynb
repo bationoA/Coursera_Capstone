{
 "cells": [
  {
   "cell_type": "markdown",
   "metadata": {},
   "source": [
    "# I - INTRODUCTION"
   ]
  },
  {
   "cell_type": "markdown",
   "metadata": {},
   "source": [
    "### I.1 - Description problem discussion of the background"
   ]
  },
  {
   "cell_type": "markdown",
   "metadata": {},
   "source": [
    "Description of the problem and a discussion of the background\n",
    "Creating business in private sector has become more attractive for millions of people. Working in public in public sector is great and it has its advantages. But, for many reasons (dreams, wealthiness, etc) many people aspire to have their own business. \n",
    "When starting a business, it worth to have some knowledge about the place in order to make better choice. It’s also important to have info about needs and the successful existing business to have an idea about what people likes and uses frequently. The target population will a subset of the G7 countries.\n",
    "\n",
    "_“The Group of Seven <b>(G7)</b> is an international intergovernmental economic organization consisting of seven major developed countries: <b>Canada, France, Germany, Italy, Japan, the United Kingdom and the United States</b>, which are the largest IMF-advanced economies in the world”_ (https://en.wikipedia.org/wiki/Group_of_Seven). In this project, the interest will be on the type of business/venues that exist in the G7 countries, categorize each country according to the most widespread type of venues that they have and then categorize venues by taking all the G7 countries as a whole. This project could a pretty good starting point for people who are willing to have create a new venue as business in one of the G7 countries. Indeed, they will be able to know which kind of venues exist in a particular country or town, which kind of venues are more common, use our model to predict in which type of venue their business will fall in and so, better identify the competition and have an idea on how likely their new business will be well received by the population."
   ]
  },
  {
   "cell_type": "markdown",
   "metadata": {},
   "source": [
    " "
   ]
  },
  {
   "cell_type": "markdown",
   "metadata": {},
   "source": [
    "### I.2 - Description of the data and objective to solve the problem"
   ]
  },
  {
   "cell_type": "markdown",
   "metadata": {},
   "source": [
    "For this project, data are exclusively provided by <b>Foursquare location data</b>. A free Forequarter’s API key will be used to query the data needed from Foursquare database in JSON (JavaScript Object Notation) format and saved in CSV (Comma Separated Value) format for further manipulations. Due to the limited number of venues per results of a free API key, 100 venues will be queried for the 2 most populous cities/states for each of the 7 countries of the G7 countries. The whole data will have 100 x 2 x 7  = 1 400 entries.\n",
    "\n",
    "To achieve the project objective, the following specifics objectives will have to be achieved:\n",
    "    1. Get and clean all data and prepare them for analysis\n",
    "    2. Cluster venues per cities/states and compare cities/states inside each country\n",
    "    3. Cluster venues by countries and compare the countries inside the G7\n",
    "    4. Cluster venues of the G7 and get a global insight about venues for the whole G7 countries.\n",
    "Clustering algorithm that will used in this project is mainly k-means."
   ]
  },
  {
   "cell_type": "markdown",
   "metadata": {},
   "source": [
    " "
   ]
  },
  {
   "cell_type": "code",
   "execution_count": null,
   "metadata": {},
   "outputs": [],
   "source": []
  }
 ],
 "metadata": {
  "kernelspec": {
   "display_name": "Python 3",
   "language": "python",
   "name": "python3"
  },
  "language_info": {
   "codemirror_mode": {
    "name": "ipython",
    "version": 3
   },
   "file_extension": ".py",
   "mimetype": "text/x-python",
   "name": "python",
   "nbconvert_exporter": "python",
   "pygments_lexer": "ipython3",
   "version": "3.7.3"
  }
 },
 "nbformat": 4,
 "nbformat_minor": 2
}
