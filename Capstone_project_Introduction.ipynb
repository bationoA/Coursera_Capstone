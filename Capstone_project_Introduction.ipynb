{
 "cells": [
  {
   "cell_type": "markdown",
   "metadata": {},
   "source": [
    "# <center>CAPSTONE PROJECT - THE BATTLE OF NEIGHBORHOODS</center>"
   ]
  },
  {
   "cell_type": "markdown",
   "metadata": {},
   "source": [
    "# I - Introduction"
   ]
  },
  {
   "cell_type": "markdown",
   "metadata": {},
   "source": [
    "### I.1. Problem description"
   ]
  },
  {
   "cell_type": "markdown",
   "metadata": {},
   "source": [
    "The choice of a place to live might depend on factors such as safety, school, job, house cost, life cost, venues etc. In this project, the interest will be on last factor, venues.\n",
    "\n",
    "_More than 26% of the world’s 2,095 billionaires live in just 10 cities on three continents_. In 2020, the two first cities with the most billinaires are New York City,USA (<b>92</b>) and Hong Kong, China (<b>71</b>). (<a href=\"https://www.forbes.com/sites/giacomotognini/2020/04/07/worlds-richest-cities-the-top-10-cities-where-most-billionaires-call-home-2020/#d82ea6f3101a\">Forbes</a>)\n",
    "\n",
    "<div style=\"text-align:center; width:100%\">\n",
    "    <h3>The two first cities where most billinaires call <i>home</i>: New York City and Hong Kong</h3>\n",
    "    <br>\n",
    "    <div>\n",
    "        <div style=\"display: inline-block; width:45%\">\n",
    "        <img src = \"https://specials-images.forbesimg.com/imageserve/5e88b867e2bb040006427704/960x0.jpg?fit=scale\" width = 400>\n",
    "        <span><b>New York City,USA (92 billionaires)</b></span>\n",
    "    </div>\n",
    "    <div style=\"display: inline-block;  width:45%\">\n",
    "        <img src = \"https://specials-images.forbesimg.com/imageserve/5e88b87fb0a4e4000746be54/960x0.jpg?fit=scale\" width = 400>\n",
    "        <span><b>Hong Kong, China (71 billionaires)</b></span>\n",
    "    </div>\n",
    "        <br>\n",
    "        <span>source: <a href=\"https://www.forbes.com/sites/giacomotognini/2020/04/07/worlds-richest-cities-the-top-10-cities-where-most-billionaires-call-home-2020/#d82ea6f3101a\">https://www.forbes.com/sites/giacomotognini/2020/04/07/worlds-richest-cities-the-top-10-cities-where-most-billionaires-call-home-2020/#d82ea6f3101a</a></span>\n",
    "    </div>\n",
    "</div>\n",
    "\n",
    "\n",
    "One might wonder what kinds of venues are in these two cities where the world's highest number of billinaires settled? How similar are these cities in terms of venues?"
   ]
  },
  {
   "cell_type": "markdown",
   "metadata": {},
   "source": [
    "###### Target population"
   ]
  },
  {
   "cell_type": "markdown",
   "metadata": {},
   "source": [
    "In this project, the focus will be on venues in New york and Hong Kong, the two cities with the highest number of billionaires accorging to <a href=\"https://www.forbes.com/sites/giacomotognini/2020/04/07/worlds-richest-cities-the-top-10-cities-where-most-billionaires-call-home-2020/#d82ea6f3101a\">Forbes</a> ranking in 2020.\n",
    "\n"
   ]
  },
  {
   "cell_type": "markdown",
   "metadata": {},
   "source": [
    "###### Main objective"
   ]
  },
  {
   "cell_type": "markdown",
   "metadata": {},
   "source": [
    "The main ojective of this project is to compare the world's two most popular cities among billionaires in terms of venues."
   ]
  },
  {
   "cell_type": "markdown",
   "metadata": {},
   "source": [
    "###### To who it will benefit to?"
   ]
  },
  {
   "cell_type": "markdown",
   "metadata": {},
   "source": [
    "This project will provide useful information to people who are willing to live in one of these two cities by helping to make a choice that fit them. The project will also allow people who want to create a business (restaurant, shop ,etc) to identify the competitors and have an idea on which kinds of business are common in the world's two first cities where billionaires decide to live."
   ]
  },
  {
   "cell_type": "markdown",
   "metadata": {},
   "source": [
    "### I.2. Description of the data and objective to solve the problem"
   ]
  },
  {
   "cell_type": "markdown",
   "metadata": {},
   "source": [
    "#### I.2.1. DATA DESCRIPTION"
   ]
  },
  {
   "cell_type": "markdown",
   "metadata": {},
   "source": [
    "###### Where will data come from?"
   ]
  },
  {
   "cell_type": "markdown",
   "metadata": {},
   "source": [
    "The data that will be used in this project will come from mainly four sources: \n",
    "    <ul>\n",
    "        <li><a href=\"https://en.wikipedia.org\">wikipedia</a> for Hong Kong's district list</li>\n",
    "        <li><a href=\"https://cocl.us/new_york_dataset\">https://cocl.us/new_york_dataset</a> for the list of New York neighborhoods</li>\n",
    "        <li><a href=\"https://nominatim.openstreetmap.org/\">Open Street Map geocoging library for python: Nominatim </a> to transform districts and neighborhoods addresses into geographic coordinates (latitude and longitude)</li>\n",
    "        <li><a href=\"https://developer.foursquare.com/docs/places-api/\">Foursquare</a> to get venues list (not the complete list) in each districts and neighborhoods</li>\n",
    "    </ul>"
   ]
  },
  {
   "cell_type": "markdown",
   "metadata": {},
   "source": [
    "###### Why to choose these data source?"
   ]
  },
  {
   "cell_type": "markdown",
   "metadata": {},
   "source": [
    "These sources have been choosen because of the data availabity and their costs. Indeed, expect <a href=\"https://developer.foursquare.com/docs/places-api/\">Foursquare</a>, all the others sources are free. Fourtunately, despite of some limitations the regular calls using the free API key of Foursquare provide quite enough data for this project."
   ]
  },
  {
   "cell_type": "markdown",
   "metadata": {},
   "source": [
    "###### How are the data structured?"
   ]
  },
  {
   "cell_type": "markdown",
   "metadata": {},
   "source": [
    "After cleaning, the data about New York nieghboorhoods will besimilar to that\n",
    "\n",
    "<div>\n",
    "    <img src = \"New-York-Neighborhoods.png\" width = 400>\n",
    "</div>"
   ]
  },
  {
   "cell_type": "markdown",
   "metadata": {},
   "source": [
    "The data about Hong Kong's districts provided by Wikipedia will look like\n",
    "<div>\n",
    "    <img src = \"Hong-Kong-Districts.png\" width = 400>\n",
    "   <!--https://raw.githubusercontent.com/bationoA/Coursera_Capstone/6d7f1806fa05d8632648116c334a225a625ed108/Hong-Kong-Districts.png-->\n",
    "</div>"
   ]
  },
  {
   "cell_type": "markdown",
   "metadata": {},
   "source": [
    "For Foursquare, the response of the queries will be in JSON(JavaScript Object Notation) format combining **_distionaries_** and **_lists_**.\n",
    "\n",
    "For each response object stored in a variable called **_results_**, venues list will be accessible through **results['response']['groups'][0]['items']**\n",
    "\n",
    "For each venue results['response']['groups'][0]['items']**['venue']** , the features that will selected are\n",
    "<ul>\n",
    "    <li><b>Venue name</b>: ['name']</li>\n",
    "    <li><b>Venue latitude</b>: ['location']['lat']</li>\n",
    "    <li><b>Venue longitude</b>: ['location']['lng']</li>\n",
    "    <li><b>Venue category</b>: ['categories'][0]['name']</li>\n",
    "</ul>"
   ]
  },
  {
   "cell_type": "markdown",
   "metadata": {},
   "source": [
    "#### I.2.2. OBJECTIVE TO SOLVE PROBLEM"
   ]
  },
  {
   "cell_type": "markdown",
   "metadata": {},
   "source": [
    "###### How will the problem get solved using the data?"
   ]
  },
  {
   "cell_type": "markdown",
   "metadata": {},
   "source": [
    "To achieve the project objective, the following specifics objectives will have to be achieved:\n",
    "    1. Get and clean all data and prepare them for analysis\n",
    "    2. Cluster venues per district/neighborhood and check out their similarity based on the most common cluster inside each city\n",
    "    3. Use the clusters of objective 2 to compare districts of Hong Kong to neighborhoods in New York\n",
    "    4. Cluster venues of all districts of Hong Kong in one hand and all neighborhoods of New York in the other then compare the whole cities to each others."
   ]
  },
  {
   "cell_type": "markdown",
   "metadata": {},
   "source": [
    "Clustering algorithm that will used in this project is mainly <b>k-means</b>."
   ]
  }
 ],
 "metadata": {
  "kernelspec": {
   "display_name": "Python 3",
   "language": "python",
   "name": "python3"
  },
  "language_info": {
   "codemirror_mode": {
    "name": "ipython",
    "version": 3
   },
   "file_extension": ".py",
   "mimetype": "text/x-python",
   "name": "python",
   "nbconvert_exporter": "python",
   "pygments_lexer": "ipython3",
   "version": "3.7.3"
  }
 },
 "nbformat": 4,
 "nbformat_minor": 2
}
